{
 "cells": [
  {
   "cell_type": "markdown",
   "metadata": {},
   "source": [
    "# Develelopment of Normalization"
   ]
  },
  {
   "cell_type": "code",
   "execution_count": 1,
   "metadata": {
    "init_cell": true
   },
   "outputs": [],
   "source": [
    "%matplotlib notebook\n",
    "%autoreload 2\n",
    "import numpy as np\n",
    "import matplotlib.pyplot as plt\n",
    "import ompy as om\n",
    "plt.style.use('Solarize_Light2')"
   ]
  },
  {
   "cell_type": "code",
   "execution_count": 3,
   "metadata": {
    "scrolled": true
   },
   "outputs": [],
   "source": [
    "# find_norm\n",
    "Sn = 6.271  # 163Dy\n",
    "#Sn = 7.658  # 164Dy\n",
    "\n",
    "pnld_norm = {\n",
    "    \"E1_low\": 0.,\n",
    "    \"E2_low\": 1.,\n",
    "    \"E1_high\": 2.5,\n",
    "    \"E2_high\": 4.5,\n",
    "    \"nld_Sn\": np.array([4.5, 1.33e6])\n",
    "}\n",
    "pnld_ext = {\n",
    "    \"ext_range\": np.array([3.5,8.]) # extrapolation range\n",
    "}\n",
    "fname_discretes = \"data/discrete_levels.txt\"\n",
    "\n",
    "pspin = {}\n",
    "\n",
    "## normalization of the gsf\n",
    "# choose a spincut model and give it's parameters\n",
    "#pspin[\"spincutModel\"]=\"EB05\"\n",
    "#pspin[\"spincutPars\"]={\"mass\":164, \"NLDa\":17.75, \"Eshift\":0.38} # some dummy values\n",
    "pspin[\"spincutModel\"]=\"Disc_and_EB05\"\n",
    "pspin[\"spincutPars\"]={\"mass\":163, \"NLDa\":17.31, \"Eshift\":-0.84,\n",
    "                      \"Sn\":Sn, \"sigma2_disc\":[1.5,3.3]}\n",
    "\n",
    "# input parameters:\n",
    "# Emid_Eg, rho_in, T_in in MeV, MeV^-1, 1\n",
    "# J_target in 1\n",
    "# D0 in eV\n",
    "# Gg in meV\n",
    "# Sn in MeV\n",
    "pspin[\"J_target\"] = 0\n",
    "pspin[\"Gg\"] = [112.,20.] # meV\n",
    "pspin[\"Sn\"] = Sn # MeV\n",
    "D0 = np.array([62.,5.]) # eV, format:[mean, std] (of the A-1 nucleus(!))\n",
    "\n",
    "#for i in range(extractor.size):\n",
    "#    extractor.nld[i].E /= 1000\n",
    "#    extractor.gsf[i].E /= 1000\n",
    "#nld = np.c_[extractor.nld[0].E, extractor.nld_mean(), extractor.nld_std()]\n",
    "#d = np.column_stack([extractor.nld[0].E, extractor.nld_mean(), extractor.nld_std()])\n",
    "# Bounds for differential evolution\n",
    "# A, alpha, T\n",
    "pnld_norm[\"bounds_diff_evo\"] = [(1, 100), # A\n",
    "                                (1e-3, 5e-3), # alpha\n",
    "                                (0.1, 1), # T\n",
    "                                (D0[0]*0.99,D0[0]*1.01)] #D0\n"
   ]
  },
  {
   "cell_type": "code",
   "execution_count": null,
   "metadata": {},
   "outputs": [],
   "source": [
    "normNLD = om.NormNLD(nld=nld,\n",
    "                     method=\"find_norm\", pnorm=pnld_norm,\n",
    "                     nldModel=\"CT\", pext=pnld_ext,\n",
    "                     D0 = D0,\n",
    "                     pspin=pspin,\n",
    "                     fname_discretes=fname_discretes )\n",
    "\n",
    "nld_fit = normNLD.nld_norm\n",
    "nld_ext = normNLD.nld_ext\n",
    "A_norm = normNLD.A_norm\n",
    "alpha_norm = normNLD.alpha_norm\n",
    "discretes = normNLD.discretes\n",
    "multinest_samples = normNLD.multinest_samples"
   ]
  },
  {
   "cell_type": "code",
   "execution_count": null,
   "metadata": {
    "scrolled": false
   },
   "outputs": [],
   "source": [
    "fig, ax = extractor.plot()\n",
    "E = extractor.nld[0].E\n",
    "histsmooth, hist = om.get_discretes(E, 'data/discrete_levels.txt')\n",
    "ax[0].plot(E, histsmooth)\n",
    "\n",
    "import copy\n",
    "extractor2 = copy.deepcopy(extractor)\n",
    "om.Action('vector').transform(A_norm, alpha_norm).map(extractor2.nld)\n",
    "extractor2.plot(ax=ax)"
   ]
  },
  {
   "cell_type": "code",
   "execution_count": 4,
   "metadata": {
    "scrolled": false
   },
   "outputs": [
    {
     "name": "stdout",
     "output_type": "stream",
     "text": [
      "2019-09-25 20:00:54,451 - ompy.normalizer - DEBUG - Set `discrete` by Vector\n",
      "2019-09-25 20:00:54,454 - ompy.normalizer - DEBUG - Created Normalizer\n",
      "dict_items([('self', <ompy.normalizer.Normalizer object at 0x7fceb79cba50>), ('limit_low', [0, 1]), ('limit_high', [2.5, 4.5]), ('nld', None), ('extractor', None), ('discrete', None), ('D0', None), ('bounds', None), ('spin', None)])\n",
      "None nld\n",
      "dict_items([('self', <ompy.normalizer.Normalizer object at 0x7fceb79cba50>), ('limit_low', [0, 1]), ('limit_high', [2.5, 4.5]), ('nld', <ompy.vector.Vector object at 0x7fceb79cadd0>), ('extractor', None), ('discrete', None), ('D0', None), ('bounds', None), ('spin', None)])\n",
      "None extractor\n"
     ]
    },
    {
     "ename": "ValueError",
     "evalue": "`extractor` must be set",
     "output_type": "error",
     "traceback": [
      "\u001b[0;31m---------------------------------------------------------------------------\u001b[0m",
      "\u001b[0;31mValueError\u001b[0m                                Traceback (most recent call last)",
      "\u001b[0;32m<ipython-input-4-68e96796135a>\u001b[0m in \u001b[0;36m<module>\u001b[0;34m\u001b[0m\n\u001b[1;32m     12\u001b[0m \u001b[0mnormalizer\u001b[0m\u001b[0;34m.\u001b[0m\u001b[0mspin\u001b[0m\u001b[0;34m[\u001b[0m\u001b[0;34m'Sn'\u001b[0m\u001b[0;34m]\u001b[0m \u001b[0;34m=\u001b[0m \u001b[0mSn\u001b[0m\u001b[0;34m\u001b[0m\u001b[0;34m\u001b[0m\u001b[0m\n\u001b[1;32m     13\u001b[0m \u001b[0mnormalizer\u001b[0m\u001b[0;34m.\u001b[0m\u001b[0mD0\u001b[0m \u001b[0;34m=\u001b[0m \u001b[0;34m[\u001b[0m\u001b[0;36m62\u001b[0m\u001b[0;34m,\u001b[0m \u001b[0;36m5\u001b[0m\u001b[0;34m]\u001b[0m\u001b[0;34m\u001b[0m\u001b[0;34m\u001b[0m\u001b[0m\n\u001b[0;32m---> 14\u001b[0;31m \u001b[0mnormalizer\u001b[0m\u001b[0;34m.\u001b[0m\u001b[0mnormalize\u001b[0m\u001b[0;34m(\u001b[0m\u001b[0;34m[\u001b[0m\u001b[0;36m0\u001b[0m\u001b[0;34m,\u001b[0m \u001b[0;36m1\u001b[0m\u001b[0;34m]\u001b[0m\u001b[0;34m,\u001b[0m \u001b[0;34m[\u001b[0m\u001b[0;36m2.5\u001b[0m\u001b[0;34m,\u001b[0m \u001b[0;36m4.5\u001b[0m\u001b[0;34m]\u001b[0m\u001b[0;34m)\u001b[0m\u001b[0;34m\u001b[0m\u001b[0;34m\u001b[0m\u001b[0m\n\u001b[0m",
      "\u001b[0;32m~/gits/oclompy/ompy/normalizer.py\u001b[0m in \u001b[0;36mnormalize\u001b[0;34m(self, limit_low, limit_high, nld, extractor, discrete, D0, bounds, spin)\u001b[0m\n\u001b[1;32m     97\u001b[0m         \u001b[0;31m# Update internal state\u001b[0m\u001b[0;34m\u001b[0m\u001b[0;34m\u001b[0m\u001b[0;34m\u001b[0m\u001b[0m\n\u001b[1;32m     98\u001b[0m         \u001b[0mnld\u001b[0m \u001b[0;34m=\u001b[0m \u001b[0mself\u001b[0m\u001b[0;34m.\u001b[0m\u001b[0mreset\u001b[0m\u001b[0;34m(\u001b[0m\u001b[0mnld\u001b[0m\u001b[0;34m)\u001b[0m\u001b[0;34m\u001b[0m\u001b[0;34m\u001b[0m\u001b[0m\n\u001b[0;32m---> 99\u001b[0;31m         \u001b[0mdiscrete\u001b[0m \u001b[0;34m=\u001b[0m \u001b[0mself\u001b[0m\u001b[0;34m.\u001b[0m\u001b[0mreset\u001b[0m\u001b[0;34m(\u001b[0m\u001b[0mdiscrete\u001b[0m\u001b[0;34m)\u001b[0m\u001b[0;34m\u001b[0m\u001b[0;34m\u001b[0m\u001b[0m\n\u001b[0m\u001b[1;32m    100\u001b[0m         \u001b[0mD0\u001b[0m \u001b[0;34m=\u001b[0m \u001b[0mself\u001b[0m\u001b[0;34m.\u001b[0m\u001b[0mreset\u001b[0m\u001b[0;34m(\u001b[0m\u001b[0mD0\u001b[0m\u001b[0;34m)\u001b[0m\u001b[0;34m\u001b[0m\u001b[0;34m\u001b[0m\u001b[0m\n\u001b[1;32m    101\u001b[0m         \u001b[0mself\u001b[0m\u001b[0;34m.\u001b[0m\u001b[0mD0\u001b[0m \u001b[0;34m=\u001b[0m \u001b[0mD0\u001b[0m  \u001b[0;31m# To ensure the bounds are updated\u001b[0m\u001b[0;34m\u001b[0m\u001b[0;34m\u001b[0m\u001b[0m\n",
      "\u001b[0;32m~/gits/oclompy/ompy/normalizer.py\u001b[0m in \u001b[0;36mreset\u001b[0;34m(self, variable)\u001b[0m\n\u001b[1;32m    251\u001b[0m             \u001b[0mprint\u001b[0m\u001b[0;34m(\u001b[0m\u001b[0mvariable\u001b[0m\u001b[0;34m,\u001b[0m \u001b[0mname\u001b[0m\u001b[0;34m)\u001b[0m\u001b[0;34m\u001b[0m\u001b[0;34m\u001b[0m\u001b[0m\n\u001b[1;32m    252\u001b[0m             \u001b[0;32mif\u001b[0m \u001b[0mself_variable\u001b[0m \u001b[0;32mis\u001b[0m \u001b[0;32mNone\u001b[0m\u001b[0;34m:\u001b[0m\u001b[0;34m\u001b[0m\u001b[0;34m\u001b[0m\u001b[0m\n\u001b[0;32m--> 253\u001b[0;31m                 \u001b[0;32mraise\u001b[0m \u001b[0mValueError\u001b[0m\u001b[0;34m(\u001b[0m\u001b[0;34mf\"`{name}` must be set\"\u001b[0m\u001b[0;34m)\u001b[0m\u001b[0;34m\u001b[0m\u001b[0;34m\u001b[0m\u001b[0m\n\u001b[0m\u001b[1;32m    254\u001b[0m             \u001b[0;32mreturn\u001b[0m \u001b[0mself_variable\u001b[0m\u001b[0;34m\u001b[0m\u001b[0;34m\u001b[0m\u001b[0m\n\u001b[1;32m    255\u001b[0m         \u001b[0;32mreturn\u001b[0m \u001b[0mvariable\u001b[0m\u001b[0;34m\u001b[0m\u001b[0;34m\u001b[0m\u001b[0m\n",
      "\u001b[0;31mValueError\u001b[0m: `extractor` must be set"
     ]
    }
   ],
   "source": [
    "logger = om.introspection.getLogger(\"normalizer\", \"DEBUG\")\n",
    "extractor = om.Extractor(path='extraction_ensemble')\n",
    "nld = extractor.ensemble_nld()\n",
    "nld.E /= 1e3\n",
    "discrete = om.load_levels_smooth('data/discrete_levels.txt', nld.E)\n",
    "Sn = 6.271\n",
    "normalizer = om.Normalizer(discrete=discrete, nld=nld)\n",
    "normalizer.spin['spincutPars'] = {\"mass\":163, \"NLDa\":17.31, \"Eshift\":-0.84,\n",
    "                      \"Sn\":Sn, \"sigma2_disc\":[1.5,3.3]}\n",
    "normalizer.spin['J_target'] = 0\n",
    "normalizer.spin['Gg'] = [112, 20]\n",
    "normalizer.spin['Sn'] = Sn\n",
    "normalizer.D0 = [62, 5]\n",
    "normalizer.normalize([0, 1], [2.5, 4.5])"
   ]
  },
  {
   "cell_type": "code",
   "execution_count": null,
   "metadata": {},
   "outputs": [],
   "source": []
  },
  {
   "cell_type": "markdown",
   "metadata": {},
   "source": [
    "### TODO\n",
    "- Design of normalization\n",
    "  - Needs to accept both vectors and Extractors\n",
    "  - Follow same design as previous\n",
    "- [x] Implement bare bones nld normalization\n",
    "- [x] Make it easy to load and manipulate discrete levels\n",
    "- [x] Write tests for the properties of Normalizer\n",
    "- St. Nimmleins Tag: Fix * exports in __init__\n",
    "  - Contaminated logging so some star imports are fixed\n",
    "- Should std be a separate matrix/vector from the values? Discuss\n",
    "  - Is combined with vector\n",
    "- Uncertain whether or not smoothing of discrete levels is necessary\n",
    "  - Need to run tests and think harder\n",
    "- [x] Move hooks to reflection\n",
    "  - Rename to introspection"
   ]
  },
  {
   "cell_type": "code",
   "execution_count": null,
   "metadata": {},
   "outputs": [],
   "source": []
  }
 ],
 "metadata": {
  "@webio": {
   "lastCommId": null,
   "lastKernelId": null
  },
  "kernelspec": {
   "display_name": "Python 3",
   "language": "python",
   "name": "python3"
  },
  "language_info": {
   "codemirror_mode": {
    "name": "ipython",
    "version": 3
   },
   "file_extension": ".py",
   "mimetype": "text/x-python",
   "name": "python",
   "nbconvert_exporter": "python",
   "pygments_lexer": "ipython3",
   "version": "3.7.4"
  },
  "varInspector": {
   "cols": {
    "lenName": 16,
    "lenType": 16,
    "lenVar": 40
   },
   "kernels_config": {
    "python": {
     "delete_cmd_postfix": "",
     "delete_cmd_prefix": "del ",
     "library": "var_list.py",
     "varRefreshCmd": "print(var_dic_list())"
    },
    "r": {
     "delete_cmd_postfix": ") ",
     "delete_cmd_prefix": "rm(",
     "library": "var_list.r",
     "varRefreshCmd": "cat(var_dic_list()) "
    }
   },
   "types_to_exclude": [
    "module",
    "function",
    "builtin_function_or_method",
    "instance",
    "_Feature"
   ],
   "window_display": false
  }
 },
 "nbformat": 4,
 "nbformat_minor": 2
}
