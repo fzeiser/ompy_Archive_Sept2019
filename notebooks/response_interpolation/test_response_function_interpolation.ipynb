{
 "cells": [
  {
   "cell_type": "code",
   "execution_count": 1,
   "metadata": {},
   "outputs": [],
   "source": [
    "import numpy as np\n",
    "import matplotlib.pyplot as plt\n",
    "import sys\n",
    "sys.path.insert(0, \"../../\")\n",
    "import ompy\n",
    "\n",
    "%matplotlib notebook"
   ]
  },
  {
   "cell_type": "code",
   "execution_count": 2,
   "metadata": {},
   "outputs": [
    {
     "name": "stdout",
     "output_type": "stream",
     "text": [
      "Calibration coefficients: {'a00': -3.5, 'a01': 112.0, 'a10': -3.5, 'a11': 112.0}\n",
      "E_max =  13884.5\n"
     ]
    },
    {
     "data": {
      "text/plain": [
       "<matplotlib.colorbar.Colorbar at 0x7f80c2ede9b0>"
      ]
     },
     "execution_count": 2,
     "metadata": {},
     "output_type": "execute_result"
    },
    {
     "data": {
      "image/png": "[encoded data removed]",
      "text/plain": [
       "<Figure size 432x288 with 2 Axes>"
      ]
     },
     "metadata": {
      "needs_background": "light"
     },
     "output_type": "display_data"
    }
   ],
   "source": [
    "# Load a response matrix\n",
    "#fname_resp_mat = \"Dy164/data/response_matrix.m\"\n",
    "#fname_resp_mat = \"response_matrix_OSCAR_Si28_compressed.m\"\n",
    "fname_resp_mat = \"response_matrix_OSCAR_Si28_compressed.m\"\n",
    "R_mama = ompy.read_mama_2D(fname_resp_mat)\n",
    "\n",
    "zmin_resp = 1e-10 # Plotting\n",
    "\n",
    "print(\"Calibration coefficients:\", R_mama.calibration())\n",
    "print(\"E_max = \", R_mama.E0_array.max())\n",
    "\n",
    "cbar = R_mama.plot(zscale=\"log\", zmin=zmin_resp)\n",
    "plt.colorbar(cbar)"
   ]
  },
  {
   "cell_type": "code",
   "execution_count": 4,
   "metadata": {},
   "outputs": [
    {
     "ename": "IndexError",
     "evalue": "index 117 is out of bounds for axis 0 with size 117",
     "output_type": "error",
     "traceback": [
      "\u001b[0;31m---------------------------------------------------------------------------\u001b[0m",
      "\u001b[0;31mIndexError\u001b[0m                                Traceback (most recent call last)",
      "\u001b[0;32m<ipython-input-4-0245833143e2>\u001b[0m in \u001b[0;36m<module>\u001b[0;34m\u001b[0m\n\u001b[1;32m     11\u001b[0m \u001b[0mFWHM\u001b[0m \u001b[0;34m=\u001b[0m \u001b[0;36m6.8\u001b[0m \u001b[0;31m# I think this is the standard in MAMA, TODO double check\u001b[0m\u001b[0;34m\u001b[0m\u001b[0;34m\u001b[0m\u001b[0m\n\u001b[1;32m     12\u001b[0m \u001b[0;34m\u001b[0m\u001b[0m\n\u001b[0;32m---> 13\u001b[0;31m \u001b[0mR_ompy\u001b[0m\u001b[0;34m,\u001b[0m \u001b[0mf_FWHM_rel\u001b[0m\u001b[0;34m,\u001b[0m \u001b[0mf_Eff_tot\u001b[0m\u001b[0;34m,\u001b[0m \u001b[0mf_pcmp\u001b[0m\u001b[0;34m,\u001b[0m \u001b[0mf_pFE\u001b[0m\u001b[0;34m,\u001b[0m \u001b[0mf_pSE\u001b[0m\u001b[0;34m,\u001b[0m \u001b[0mf_pDE\u001b[0m\u001b[0;34m,\u001b[0m \u001b[0mf_p511\u001b[0m \u001b[0;34m=\u001b[0m \u001b[0mompy\u001b[0m\u001b[0;34m.\u001b[0m\u001b[0mresponse\u001b[0m\u001b[0;34m(\u001b[0m\u001b[0mfolderpath\u001b[0m\u001b[0;34m,\u001b[0m \u001b[0mEout_array\u001b[0m\u001b[0;34m,\u001b[0m \u001b[0mFWHM\u001b[0m\u001b[0;34m)\u001b[0m\u001b[0;34m\u001b[0m\u001b[0;34m\u001b[0m\u001b[0m\n\u001b[0m\u001b[1;32m     14\u001b[0m \u001b[0;34m\u001b[0m\u001b[0m\n\u001b[1;32m     15\u001b[0m \u001b[0mR_ompy\u001b[0m \u001b[0;34m=\u001b[0m \u001b[0mompy\u001b[0m\u001b[0;34m.\u001b[0m\u001b[0mMatrix\u001b[0m\u001b[0;34m(\u001b[0m\u001b[0mmatrix\u001b[0m\u001b[0;34m=\u001b[0m\u001b[0mR_ompy\u001b[0m\u001b[0;34m,\u001b[0m \u001b[0mE0_array\u001b[0m\u001b[0;34m=\u001b[0m\u001b[0mEout_array\u001b[0m\u001b[0;34m,\u001b[0m \u001b[0mE1_array\u001b[0m\u001b[0;34m=\u001b[0m\u001b[0mEout_array\u001b[0m\u001b[0;34m)\u001b[0m\u001b[0;34m\u001b[0m\u001b[0;34m\u001b[0m\u001b[0m\n",
      "\u001b[0;32m~/gitrepos/ompy/ompy/response.pyx\u001b[0m in \u001b[0;36mompy.response.response\u001b[0;34m()\u001b[0m\n",
      "\u001b[0;31mIndexError\u001b[0m: index 117 is out of bounds for axis 0 with size 117"
     ]
    }
   ],
   "source": [
    "# Then do the same using OMpy functionality:\n",
    "\n",
    "folderpath = \"/home/jorgenem/gitrepos/ompy/oscar2017_scale1.15\"\n",
    "# TODO port to old NaI: I wrote the original code for Fabio's OSCAR responses. But we need to be able to use the old NaI response functions also.\n",
    "#folderpath = \"/home/jorgenem/gitrepos/oslo-method-software/mama/resp/nai2012\"\n",
    "\n",
    "# Energy calibration of resulting response matrix:\n",
    "Eout_array = ompy.E_array_from_calibration(a0=0.525000E+02, a1=0.112000E+03, E_max=13000)\n",
    "\n",
    "# Experimental relative FWHM at 1.33 MeV of resulting array (TODO set up default value for this):\n",
    "FWHM = 6.8 # I think this is the standard in MAMA, TODO double check\n",
    "\n",
    "R_ompy, f_FWHM_rel, f_Eff_tot, f_pcmp, f_pFE, f_pSE, f_pDE, f_p511 = ompy.response(folderpath, Eout_array, FWHM)\n",
    "\n",
    "R_ompy = ompy.Matrix(matrix=R_ompy, E0_array=Eout_array, E1_array=Eout_array)\n",
    "R_ompy.plot(zscale=\"log\", zmin=zmin_resp)"
   ]
  },
  {
   "cell_type": "code",
   "execution_count": null,
   "metadata": {},
   "outputs": [],
   "source": [
    "# Compare projections:\n",
    "%matplotlib notebook\n",
    "\n",
    "E_limits = [3000, 3050]\n",
    "\n",
    "f, ax = plt.subplots(1)\n",
    "\n",
    "# MAMA:\n",
    "R_mama.plot_projection_x(E_limits = E_limits, ax=ax, label=\"R_mama\")\n",
    "\n",
    "# ompy:\n",
    "R_ompy.plot_projection_x(E_limits = E_limits, ax=ax, label=\"R_ompy\")\n",
    "\n",
    "ax.legend()\n",
    "\n",
    "plt.show()"
   ]
  },
  {
   "cell_type": "markdown",
   "metadata": {},
   "source": [
    "\n",
    "## Test gauss smoothing function:"
   ]
  },
  {
   "cell_type": "code",
   "execution_count": null,
   "metadata": {},
   "outputs": [],
   "source": [
    "E_array = np.linspace(0, 200, 201)\n",
    "counts_array = np.zeros(len(E_array))\n",
    "counts_array[100] = 1\n",
    "counts_array_smoothed = ompy.gauss_smoothing(counts_array, E_array, 10)\n",
    "\n",
    "f, ax = plt.subplots(1)\n",
    "ax.plot(E_array, counts_array)\n",
    "ax.plot(E_array, counts_array_smoothed)\n",
    "\n",
    "print(\"sum(counts_array) = \", counts_array.sum())\n",
    "print(\"sum(counts_array_smoothed) = \", counts_array_smoothed.sum())"
   ]
  },
  {
   "cell_type": "code",
   "execution_count": null,
   "metadata": {},
   "outputs": [],
   "source": []
  }
 ],
 "metadata": {
  "kernelspec": {
   "display_name": "Python 3",
   "language": "python",
   "name": "python3"
  },
  "language_info": {
   "codemirror_mode": {
    "name": "ipython",
    "version": 3
   },
   "file_extension": ".py",
   "mimetype": "text/x-python",
   "name": "python",
   "nbconvert_exporter": "python",
   "pygments_lexer": "ipython3",
   "version": "3.7.3"
  }
 },
 "nbformat": 4,
 "nbformat_minor": 2
}
