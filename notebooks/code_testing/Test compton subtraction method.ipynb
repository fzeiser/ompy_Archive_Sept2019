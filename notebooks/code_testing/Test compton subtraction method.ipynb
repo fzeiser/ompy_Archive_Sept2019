{
 "cells": [
  {
   "cell_type": "markdown",
   "metadata": {},
   "source": [
    "Notebook to test the reimplementation of the Compton subtraction method, including helper functions. Written 20190708\n"
   ]
  },
  {
   "cell_type": "code",
   "execution_count": 1,
   "metadata": {},
   "outputs": [],
   "source": [
    "import numpy as np\n",
    "import matplotlib.pyplot as plt\n",
    "import sys\n",
    "sys.path.insert(0, \"../../\")\n",
    "import ompy\n",
    "\n",
    "%load_ext autoreload\n",
    "%matplotlib notebook"
   ]
  },
  {
   "cell_type": "code",
   "execution_count": 2,
   "metadata": {},
   "outputs": [
    {
     "data": {
      "image/png": "[encoded data removed]",
      "text/plain": [
       "<Figure size 432x288 with 1 Axes>"
      ]
     },
     "metadata": {
      "needs_background": "light"
     },
     "output_type": "display_data"
    }
   ],
   "source": [
    "# Test the rebin_and_shift function\n",
    "\n",
    "N = 20\n",
    "E_array = np.linspace(0, 2000, N)\n",
    "counts = np.zeros(N)\n",
    "counts[15] = 10\n",
    "\n",
    "# Test shift() function:\n",
    "counts_shifted = ompy.shift(counts, E_array_in=E_array, energy_shift=-525)\n",
    "\n",
    "# Test rebin_and_shift() function:\n",
    "E_array_rebin = np.linspace(-500, 3000, N+50)\n",
    "counts_rebinned_and_shifted = ompy.rebin_and_shift(counts, E_array_in=E_array, E_array_out=E_array_rebin, energy_shift=-525)\n",
    "\n",
    "\n",
    "f, ax = plt.subplots(1)\n",
    "\n",
    "ax.step(E_array, counts, label=\"orig\")\n",
    "ax.step(E_array, counts_shifted, label=\"shifted\")\n",
    "ax.step(E_array_rebin, counts_rebinned_and_shifted, label=\"rebinned and shifted\")\n",
    "\n",
    "ax.legend()\n",
    "\n",
    "\n",
    "plt.show()"
   ]
  },
  {
   "cell_type": "markdown",
   "metadata": {},
   "source": [
    "# Test the compton subtraction method"
   ]
  },
  {
   "cell_type": "code",
   "execution_count": 3,
   "metadata": {},
   "outputs": [],
   "source": [
    "raw = ompy.read_mama_2D(\"Si28_raw_matrix_compressed.m\")\n",
    "\n",
    "#folder_response = \"../../oscar2017_scale1.15\"\n",
    "#response, fwhm_rel, Eff_tot, pcmp, pFE, pSE, pDE, p511 = ompy.response(folder_response, raw.E1_array, fwhm_abs=6.8)\n",
    "\n",
    "#unfolder = ompy.Unfolder(folder_response, matrix=raw, fwhm=6.8)\n",
    "# Testing with standard values for folder_path_response and fwhm, given in constants.py:\n",
    "unfolder = ompy.Unfolder(matrix=raw)"
   ]
  },
  {
   "cell_type": "code",
   "execution_count": 4,
   "metadata": {},
   "outputs": [
    {
     "data": {
      "text/plain": [
       "<matplotlib.collections.QuadMesh at 0x7f816d50c1d0>"
      ]
     },
     "execution_count": 4,
     "metadata": {},
     "output_type": "execute_result"
    },
    {
     "data": {
      "image/png": "[encoded data removed]",
      "text/plain": [
       "<Figure size 432x288 with 1 Axes>"
      ]
     },
     "metadata": {
      "needs_background": "light"
     },
     "output_type": "display_data"
    }
   ],
   "source": [
    "unfolder.response_matrix.plot(zscale=\"linear\")"
   ]
  },
  {
   "cell_type": "code",
   "execution_count": null,
   "metadata": {},
   "outputs": [
    {
     "name": "stderr",
     "output_type": "stream",
     "text": [
      "../../ompy/unfold.py:369: RuntimeWarning: invalid value encountered in true_divide\n",
      "  fluctuations_matrix = fluctuations_matrix/fluctuations_vector_raw[:,None] # TODO check that this broadcasts the vector over the right dimension\n"
     ]
    },
    {
     "name": "stdout",
     "output_type": "stream",
     "text": [
      "DEBUG: Running Compton subtraction method.\n"
     ]
    }
   ],
   "source": [
    "# Run unfolding without Compton subtraction:\n",
    "unfolded_no_compton = unfolder.unfold(raw, use_comptonsubtraction=False)\n",
    "\n",
    "# Run unfolding again WITH Compton subtraction:\n",
    "unfolded_with_compton = unfolder.unfold(raw, FWHM_factor=1, use_comptonsubtraction=True)\n",
    "\n",
    "\n",
    "# Plot:\n",
    "f, (ax0, ax1, ax2) = plt.subplots(1, 3)\n",
    "\n",
    "# Plot raw:\n",
    "raw.plot(ax=ax0, title=\"raw\")\n",
    "\n",
    "# Plot unfolded without Compton subtraction method:\n",
    "unfolded_no_compton.plot(ax=ax1, zscale=\"linear\", title=\"no Compton sub\")\n",
    "\n",
    "# Plot unfolded with Compton subtraction method:\n",
    "unfolded_with_compton.plot(ax=ax2, zscale=\"linear\", title=\"with Compton sub\")\n",
    "\n",
    "#f.set_size_inches(15, 5)"
   ]
  },
  {
   "cell_type": "code",
   "execution_count": null,
   "metadata": {},
   "outputs": [],
   "source": [
    "%matplotlib notebook\n",
    "# Plot projections:\n",
    "E_limits = [8000, 8200]\n",
    "\n",
    "# Plot:\n",
    "f, ax0 = plt.subplots(1)\n",
    "\n",
    "# Plot raw:\n",
    "raw.plot_projection_x(E_limits, ax=ax0, label=\"raw\", linestyle=\"-\")\n",
    "\n",
    "# Plot unfolded without Compton subtraction method:\n",
    "unfolded_no_compton.plot_projection_x(E_limits, ax=ax0, label=\"no Compton sub\", linestyle=\"--\")\n",
    "\n",
    "# Plot unfolded with Compton subtraction method:\n",
    "unfolded_with_compton.plot_projection_x(E_limits, ax=ax0, label=\"with Compton sub\", linestyle=\":\")\n",
    "\n",
    "ax0.legend()\n",
    "ax1.legend()\n",
    "ax2.legend()\n",
    "\n",
    "#f.set_size_inches(15, 5)"
   ]
  },
  {
   "cell_type": "code",
   "execution_count": null,
   "metadata": {},
   "outputs": [],
   "source": []
  }
 ],
 "metadata": {
  "kernelspec": {
   "display_name": "Python 3",
   "language": "python",
   "name": "python3"
  },
  "language_info": {
   "codemirror_mode": {
    "name": "ipython",
    "version": 3
   },
   "file_extension": ".py",
   "mimetype": "text/x-python",
   "name": "python",
   "nbconvert_exporter": "python",
   "pygments_lexer": "ipython3",
   "version": "3.7.3"
  }
 },
 "nbformat": 4,
 "nbformat_minor": 2
}
