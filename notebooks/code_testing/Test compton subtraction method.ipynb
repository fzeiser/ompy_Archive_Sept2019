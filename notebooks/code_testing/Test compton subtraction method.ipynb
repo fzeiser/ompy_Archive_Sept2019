{
 "cells": [
  {
   "cell_type": "markdown",
   "metadata": {},
   "source": [
    "Notebook to test the reimplementation of the Compton subtraction method, including helper functions. Written 20190708\n"
   ]
  },
  {
   "cell_type": "code",
   "execution_count": 1,
   "metadata": {},
   "outputs": [],
   "source": [
    "import numpy as np\n",
    "import matplotlib.pyplot as plt\n",
    "import sys\n",
    "sys.path.insert(0, \"../../\")\n",
    "import ompy\n",
    "\n",
    "%load_ext autoreload\n",
    "%matplotlib notebook"
   ]
  },
  {
   "cell_type": "code",
   "execution_count": 6,
   "metadata": {},
   "outputs": [
    {
     "data": {
      "image/png": "[encoded data removed]",
      "text/plain": [
       "<Figure size 432x288 with 1 Axes>"
      ]
     },
     "metadata": {
      "needs_background": "light"
     },
     "output_type": "display_data"
    }
   ],
   "source": [
    "# Test the rebin_and_shift function\n",
    "\n",
    "N = 20\n",
    "E_array = np.linspace(0, 2000, N)\n",
    "counts = np.zeros(N)\n",
    "counts[15] = 10\n",
    "\n",
    "\n",
    "counts_shifted = ompy.rebin_and_shift(counts, E_array_in=E_array, E_array_out=E_array, energy_shift=-525)\n",
    "\n",
    "\n",
    "f, ax = plt.subplots(1)\n",
    "\n",
    "ax.step(E_array, counts, label=\"orig\")\n",
    "ax.step(E_array, counts_shifted, label=\"shifted\")\n",
    "\n",
    "ax.legend()\n",
    "\n",
    "\n",
    "plt.show()"
   ]
  },
  {
   "cell_type": "code",
   "execution_count": null,
   "metadata": {},
   "outputs": [],
   "source": []
  }
 ],
 "metadata": {
  "kernelspec": {
   "display_name": "Python 3",
   "language": "python",
   "name": "python3"
  },
  "language_info": {
   "codemirror_mode": {
    "name": "ipython",
    "version": 3
   },
   "file_extension": ".py",
   "mimetype": "text/x-python",
   "name": "python",
   "nbconvert_exporter": "python",
   "pygments_lexer": "ipython3",
   "version": "3.7.3"
  }
 },
 "nbformat": 4,
 "nbformat_minor": 2
}
